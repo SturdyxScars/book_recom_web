{
 "cells": [
  {
   "cell_type": "code",
   "execution_count": 1,
   "id": "86dcdad5-f280-48b3-a035-e7c41a099235",
   "metadata": {},
   "outputs": [],
   "source": [
    "import pandas as pd\n",
    "import numpy as np\n",
    "import matplotlib.pyplot as plt"
   ]
  },
  {
   "cell_type": "code",
   "execution_count": 2,
   "id": "a65ca9d3-e3fa-47e2-8c54-76f1f69dfa1d",
   "metadata": {},
   "outputs": [],
   "source": [
    "import seaborn as sns"
   ]
  },
  {
   "cell_type": "code",
   "execution_count": 3,
   "id": "ba109d78-0ea3-4c53-8303-664bb3edf1e2",
   "metadata": {},
   "outputs": [
    {
     "name": "stderr",
     "output_type": "stream",
     "text": [
      "C:\\Users\\Chinmay\\AppData\\Local\\Temp\\ipykernel_5636\\3566863238.py:1: DtypeWarning: Columns (3) have mixed types. Specify dtype option on import or set low_memory=False.\n",
      "  books = pd.read_csv('Books.csv')\n"
     ]
    }
   ],
   "source": [
    "books = pd.read_csv('Books.csv')\n",
    "user = pd.read_csv('Users.csv')\n",
    "rating = pd.read_csv('Ratings.csv')"
   ]
  },
  {
   "cell_type": "code",
   "execution_count": 4,
   "id": "381aa837-23b1-4002-ba3a-c9c9870ffbe6",
   "metadata": {},
   "outputs": [
    {
     "data": {
      "text/html": [
       "<div>\n",
       "<style scoped>\n",
       "    .dataframe tbody tr th:only-of-type {\n",
       "        vertical-align: middle;\n",
       "    }\n",
       "\n",
       "    .dataframe tbody tr th {\n",
       "        vertical-align: top;\n",
       "    }\n",
       "\n",
       "    .dataframe thead th {\n",
       "        text-align: right;\n",
       "    }\n",
       "</style>\n",
       "<table border=\"1\" class=\"dataframe\">\n",
       "  <thead>\n",
       "    <tr style=\"text-align: right;\">\n",
       "      <th></th>\n",
       "      <th>ISBN</th>\n",
       "      <th>Book-Title</th>\n",
       "      <th>Book-Author</th>\n",
       "      <th>Year-Of-Publication</th>\n",
       "      <th>Publisher</th>\n",
       "      <th>Image-URL-S</th>\n",
       "      <th>Image-URL-M</th>\n",
       "      <th>Image-URL-L</th>\n",
       "    </tr>\n",
       "  </thead>\n",
       "  <tbody>\n",
       "    <tr>\n",
       "      <th>0</th>\n",
       "      <td>0195153448</td>\n",
       "      <td>Classical Mythology</td>\n",
       "      <td>Mark P. O. Morford</td>\n",
       "      <td>2002</td>\n",
       "      <td>Oxford University Press</td>\n",
       "      <td>http://images.amazon.com/images/P/0195153448.0...</td>\n",
       "      <td>http://images.amazon.com/images/P/0195153448.0...</td>\n",
       "      <td>http://images.amazon.com/images/P/0195153448.0...</td>\n",
       "    </tr>\n",
       "    <tr>\n",
       "      <th>1</th>\n",
       "      <td>0002005018</td>\n",
       "      <td>Clara Callan</td>\n",
       "      <td>Richard Bruce Wright</td>\n",
       "      <td>2001</td>\n",
       "      <td>HarperFlamingo Canada</td>\n",
       "      <td>http://images.amazon.com/images/P/0002005018.0...</td>\n",
       "      <td>http://images.amazon.com/images/P/0002005018.0...</td>\n",
       "      <td>http://images.amazon.com/images/P/0002005018.0...</td>\n",
       "    </tr>\n",
       "    <tr>\n",
       "      <th>2</th>\n",
       "      <td>0060973129</td>\n",
       "      <td>Decision in Normandy</td>\n",
       "      <td>Carlo D'Este</td>\n",
       "      <td>1991</td>\n",
       "      <td>HarperPerennial</td>\n",
       "      <td>http://images.amazon.com/images/P/0060973129.0...</td>\n",
       "      <td>http://images.amazon.com/images/P/0060973129.0...</td>\n",
       "      <td>http://images.amazon.com/images/P/0060973129.0...</td>\n",
       "    </tr>\n",
       "    <tr>\n",
       "      <th>3</th>\n",
       "      <td>0374157065</td>\n",
       "      <td>Flu: The Story of the Great Influenza Pandemic...</td>\n",
       "      <td>Gina Bari Kolata</td>\n",
       "      <td>1999</td>\n",
       "      <td>Farrar Straus Giroux</td>\n",
       "      <td>http://images.amazon.com/images/P/0374157065.0...</td>\n",
       "      <td>http://images.amazon.com/images/P/0374157065.0...</td>\n",
       "      <td>http://images.amazon.com/images/P/0374157065.0...</td>\n",
       "    </tr>\n",
       "    <tr>\n",
       "      <th>4</th>\n",
       "      <td>0393045218</td>\n",
       "      <td>The Mummies of Urumchi</td>\n",
       "      <td>E. J. W. Barber</td>\n",
       "      <td>1999</td>\n",
       "      <td>W. W. Norton &amp;amp; Company</td>\n",
       "      <td>http://images.amazon.com/images/P/0393045218.0...</td>\n",
       "      <td>http://images.amazon.com/images/P/0393045218.0...</td>\n",
       "      <td>http://images.amazon.com/images/P/0393045218.0...</td>\n",
       "    </tr>\n",
       "  </tbody>\n",
       "</table>\n",
       "</div>"
      ],
      "text/plain": [
       "         ISBN                                         Book-Title  \\\n",
       "0  0195153448                                Classical Mythology   \n",
       "1  0002005018                                       Clara Callan   \n",
       "2  0060973129                               Decision in Normandy   \n",
       "3  0374157065  Flu: The Story of the Great Influenza Pandemic...   \n",
       "4  0393045218                             The Mummies of Urumchi   \n",
       "\n",
       "            Book-Author Year-Of-Publication                   Publisher  \\\n",
       "0    Mark P. O. Morford                2002     Oxford University Press   \n",
       "1  Richard Bruce Wright                2001       HarperFlamingo Canada   \n",
       "2          Carlo D'Este                1991             HarperPerennial   \n",
       "3      Gina Bari Kolata                1999        Farrar Straus Giroux   \n",
       "4       E. J. W. Barber                1999  W. W. Norton &amp; Company   \n",
       "\n",
       "                                         Image-URL-S  \\\n",
       "0  http://images.amazon.com/images/P/0195153448.0...   \n",
       "1  http://images.amazon.com/images/P/0002005018.0...   \n",
       "2  http://images.amazon.com/images/P/0060973129.0...   \n",
       "3  http://images.amazon.com/images/P/0374157065.0...   \n",
       "4  http://images.amazon.com/images/P/0393045218.0...   \n",
       "\n",
       "                                         Image-URL-M  \\\n",
       "0  http://images.amazon.com/images/P/0195153448.0...   \n",
       "1  http://images.amazon.com/images/P/0002005018.0...   \n",
       "2  http://images.amazon.com/images/P/0060973129.0...   \n",
       "3  http://images.amazon.com/images/P/0374157065.0...   \n",
       "4  http://images.amazon.com/images/P/0393045218.0...   \n",
       "\n",
       "                                         Image-URL-L  \n",
       "0  http://images.amazon.com/images/P/0195153448.0...  \n",
       "1  http://images.amazon.com/images/P/0002005018.0...  \n",
       "2  http://images.amazon.com/images/P/0060973129.0...  \n",
       "3  http://images.amazon.com/images/P/0374157065.0...  \n",
       "4  http://images.amazon.com/images/P/0393045218.0...  "
      ]
     },
     "execution_count": 4,
     "metadata": {},
     "output_type": "execute_result"
    }
   ],
   "source": [
    "books.head()"
   ]
  },
  {
   "cell_type": "code",
   "execution_count": 4,
   "id": "92d3c4bc-6183-4920-8393-775f4f9b012d",
   "metadata": {},
   "outputs": [],
   "source": [
    "books = books[['ISBN', 'Book-Title', 'Book-Author', 'Year-Of-Publication', 'Publisher','Image-URL-M']]"
   ]
  },
  {
   "cell_type": "code",
   "execution_count": 5,
   "id": "6eda9ed0-a589-44f7-b4fd-d33f8f411244",
   "metadata": {},
   "outputs": [],
   "source": [
    "books.rename(columns = {'ISBN' : 'isbn', 'Book-Title': 'title', 'Book-Author': 'author', 'Year-Of-Publication': 'year', 'Publisher': 'publisher', 'Image-URL-M':'url'}, inplace = True)"
   ]
  },
  {
   "cell_type": "code",
   "execution_count": 6,
   "id": "e6b72b26-9560-40c3-b4da-c8fbc7951485",
   "metadata": {},
   "outputs": [
    {
     "data": {
      "text/html": [
       "<div>\n",
       "<style scoped>\n",
       "    .dataframe tbody tr th:only-of-type {\n",
       "        vertical-align: middle;\n",
       "    }\n",
       "\n",
       "    .dataframe tbody tr th {\n",
       "        vertical-align: top;\n",
       "    }\n",
       "\n",
       "    .dataframe thead th {\n",
       "        text-align: right;\n",
       "    }\n",
       "</style>\n",
       "<table border=\"1\" class=\"dataframe\">\n",
       "  <thead>\n",
       "    <tr style=\"text-align: right;\">\n",
       "      <th></th>\n",
       "      <th>isbn</th>\n",
       "      <th>title</th>\n",
       "      <th>author</th>\n",
       "      <th>year</th>\n",
       "      <th>publisher</th>\n",
       "      <th>url</th>\n",
       "    </tr>\n",
       "  </thead>\n",
       "  <tbody>\n",
       "    <tr>\n",
       "      <th>0</th>\n",
       "      <td>0195153448</td>\n",
       "      <td>Classical Mythology</td>\n",
       "      <td>Mark P. O. Morford</td>\n",
       "      <td>2002</td>\n",
       "      <td>Oxford University Press</td>\n",
       "      <td>http://images.amazon.com/images/P/0195153448.0...</td>\n",
       "    </tr>\n",
       "    <tr>\n",
       "      <th>1</th>\n",
       "      <td>0002005018</td>\n",
       "      <td>Clara Callan</td>\n",
       "      <td>Richard Bruce Wright</td>\n",
       "      <td>2001</td>\n",
       "      <td>HarperFlamingo Canada</td>\n",
       "      <td>http://images.amazon.com/images/P/0002005018.0...</td>\n",
       "    </tr>\n",
       "    <tr>\n",
       "      <th>2</th>\n",
       "      <td>0060973129</td>\n",
       "      <td>Decision in Normandy</td>\n",
       "      <td>Carlo D'Este</td>\n",
       "      <td>1991</td>\n",
       "      <td>HarperPerennial</td>\n",
       "      <td>http://images.amazon.com/images/P/0060973129.0...</td>\n",
       "    </tr>\n",
       "    <tr>\n",
       "      <th>3</th>\n",
       "      <td>0374157065</td>\n",
       "      <td>Flu: The Story of the Great Influenza Pandemic...</td>\n",
       "      <td>Gina Bari Kolata</td>\n",
       "      <td>1999</td>\n",
       "      <td>Farrar Straus Giroux</td>\n",
       "      <td>http://images.amazon.com/images/P/0374157065.0...</td>\n",
       "    </tr>\n",
       "    <tr>\n",
       "      <th>4</th>\n",
       "      <td>0393045218</td>\n",
       "      <td>The Mummies of Urumchi</td>\n",
       "      <td>E. J. W. Barber</td>\n",
       "      <td>1999</td>\n",
       "      <td>W. W. Norton &amp;amp; Company</td>\n",
       "      <td>http://images.amazon.com/images/P/0393045218.0...</td>\n",
       "    </tr>\n",
       "  </tbody>\n",
       "</table>\n",
       "</div>"
      ],
      "text/plain": [
       "         isbn                                              title  \\\n",
       "0  0195153448                                Classical Mythology   \n",
       "1  0002005018                                       Clara Callan   \n",
       "2  0060973129                               Decision in Normandy   \n",
       "3  0374157065  Flu: The Story of the Great Influenza Pandemic...   \n",
       "4  0393045218                             The Mummies of Urumchi   \n",
       "\n",
       "                 author  year                   publisher  \\\n",
       "0    Mark P. O. Morford  2002     Oxford University Press   \n",
       "1  Richard Bruce Wright  2001       HarperFlamingo Canada   \n",
       "2          Carlo D'Este  1991             HarperPerennial   \n",
       "3      Gina Bari Kolata  1999        Farrar Straus Giroux   \n",
       "4       E. J. W. Barber  1999  W. W. Norton &amp; Company   \n",
       "\n",
       "                                                 url  \n",
       "0  http://images.amazon.com/images/P/0195153448.0...  \n",
       "1  http://images.amazon.com/images/P/0002005018.0...  \n",
       "2  http://images.amazon.com/images/P/0060973129.0...  \n",
       "3  http://images.amazon.com/images/P/0374157065.0...  \n",
       "4  http://images.amazon.com/images/P/0393045218.0...  "
      ]
     },
     "execution_count": 6,
     "metadata": {},
     "output_type": "execute_result"
    }
   ],
   "source": [
    "books.head()"
   ]
  },
  {
   "cell_type": "code",
   "execution_count": 7,
   "id": "33badf6b-0b94-47df-9f49-468d696ab0aa",
   "metadata": {},
   "outputs": [
    {
     "data": {
      "text/html": [
       "<div>\n",
       "<style scoped>\n",
       "    .dataframe tbody tr th:only-of-type {\n",
       "        vertical-align: middle;\n",
       "    }\n",
       "\n",
       "    .dataframe tbody tr th {\n",
       "        vertical-align: top;\n",
       "    }\n",
       "\n",
       "    .dataframe thead th {\n",
       "        text-align: right;\n",
       "    }\n",
       "</style>\n",
       "<table border=\"1\" class=\"dataframe\">\n",
       "  <thead>\n",
       "    <tr style=\"text-align: right;\">\n",
       "      <th></th>\n",
       "      <th>User-ID</th>\n",
       "      <th>Location</th>\n",
       "      <th>Age</th>\n",
       "    </tr>\n",
       "  </thead>\n",
       "  <tbody>\n",
       "    <tr>\n",
       "      <th>0</th>\n",
       "      <td>1</td>\n",
       "      <td>nyc, new york, usa</td>\n",
       "      <td>NaN</td>\n",
       "    </tr>\n",
       "    <tr>\n",
       "      <th>1</th>\n",
       "      <td>2</td>\n",
       "      <td>stockton, california, usa</td>\n",
       "      <td>18.0</td>\n",
       "    </tr>\n",
       "    <tr>\n",
       "      <th>2</th>\n",
       "      <td>3</td>\n",
       "      <td>moscow, yukon territory, russia</td>\n",
       "      <td>NaN</td>\n",
       "    </tr>\n",
       "    <tr>\n",
       "      <th>3</th>\n",
       "      <td>4</td>\n",
       "      <td>porto, v.n.gaia, portugal</td>\n",
       "      <td>17.0</td>\n",
       "    </tr>\n",
       "    <tr>\n",
       "      <th>4</th>\n",
       "      <td>5</td>\n",
       "      <td>farnborough, hants, united kingdom</td>\n",
       "      <td>NaN</td>\n",
       "    </tr>\n",
       "  </tbody>\n",
       "</table>\n",
       "</div>"
      ],
      "text/plain": [
       "   User-ID                            Location   Age\n",
       "0        1                  nyc, new york, usa   NaN\n",
       "1        2           stockton, california, usa  18.0\n",
       "2        3     moscow, yukon territory, russia   NaN\n",
       "3        4           porto, v.n.gaia, portugal  17.0\n",
       "4        5  farnborough, hants, united kingdom   NaN"
      ]
     },
     "execution_count": 7,
     "metadata": {},
     "output_type": "execute_result"
    }
   ],
   "source": [
    "user.head()"
   ]
  },
  {
   "cell_type": "code",
   "execution_count": 8,
   "id": "45329340-627d-4dcd-ada0-9f51f95ff638",
   "metadata": {},
   "outputs": [],
   "source": [
    "user.rename(columns = {'User-ID' : 'id', 'Location': 'location', 'Age': ' age'}, inplace = True)"
   ]
  },
  {
   "cell_type": "code",
   "execution_count": 9,
   "id": "0c18a015-1450-491c-9459-95b827c030dd",
   "metadata": {},
   "outputs": [],
   "source": [
    "rating.rename(columns = {'User-ID' : 'id', 'ISBN': 'isbn', 'Book-Rating': 'rating'}, inplace = True)"
   ]
  },
  {
   "cell_type": "code",
   "execution_count": 10,
   "id": "76293e21-1b51-4144-a881-2b91192ae853",
   "metadata": {},
   "outputs": [
    {
     "data": {
      "text/html": [
       "<div>\n",
       "<style scoped>\n",
       "    .dataframe tbody tr th:only-of-type {\n",
       "        vertical-align: middle;\n",
       "    }\n",
       "\n",
       "    .dataframe tbody tr th {\n",
       "        vertical-align: top;\n",
       "    }\n",
       "\n",
       "    .dataframe thead th {\n",
       "        text-align: right;\n",
       "    }\n",
       "</style>\n",
       "<table border=\"1\" class=\"dataframe\">\n",
       "  <thead>\n",
       "    <tr style=\"text-align: right;\">\n",
       "      <th></th>\n",
       "      <th>id</th>\n",
       "      <th>isbn</th>\n",
       "      <th>rating</th>\n",
       "    </tr>\n",
       "  </thead>\n",
       "  <tbody>\n",
       "    <tr>\n",
       "      <th>0</th>\n",
       "      <td>276725</td>\n",
       "      <td>034545104X</td>\n",
       "      <td>0</td>\n",
       "    </tr>\n",
       "    <tr>\n",
       "      <th>1</th>\n",
       "      <td>276726</td>\n",
       "      <td>0155061224</td>\n",
       "      <td>5</td>\n",
       "    </tr>\n",
       "    <tr>\n",
       "      <th>2</th>\n",
       "      <td>276727</td>\n",
       "      <td>0446520802</td>\n",
       "      <td>0</td>\n",
       "    </tr>\n",
       "    <tr>\n",
       "      <th>3</th>\n",
       "      <td>276729</td>\n",
       "      <td>052165615X</td>\n",
       "      <td>3</td>\n",
       "    </tr>\n",
       "    <tr>\n",
       "      <th>4</th>\n",
       "      <td>276729</td>\n",
       "      <td>0521795028</td>\n",
       "      <td>6</td>\n",
       "    </tr>\n",
       "  </tbody>\n",
       "</table>\n",
       "</div>"
      ],
      "text/plain": [
       "       id        isbn  rating\n",
       "0  276725  034545104X       0\n",
       "1  276726  0155061224       5\n",
       "2  276727  0446520802       0\n",
       "3  276729  052165615X       3\n",
       "4  276729  0521795028       6"
      ]
     },
     "execution_count": 10,
     "metadata": {},
     "output_type": "execute_result"
    }
   ],
   "source": [
    "rating.head()"
   ]
  },
  {
   "cell_type": "code",
   "execution_count": 11,
   "id": "7b58b6db-ba53-4c68-b5f7-efd1c4a2f99e",
   "metadata": {},
   "outputs": [
    {
     "data": {
      "text/plain": [
       "isbn         0\n",
       "title        0\n",
       "author       2\n",
       "year         0\n",
       "publisher    2\n",
       "url          0\n",
       "dtype: int64"
      ]
     },
     "execution_count": 11,
     "metadata": {},
     "output_type": "execute_result"
    }
   ],
   "source": [
    "books.isnull().sum()"
   ]
  },
  {
   "cell_type": "code",
   "execution_count": 12,
   "id": "e98d56ca-5bc4-43aa-be23-99db8e4f07de",
   "metadata": {},
   "outputs": [
    {
     "data": {
      "text/plain": [
       "0"
      ]
     },
     "execution_count": 12,
     "metadata": {},
     "output_type": "execute_result"
    }
   ],
   "source": [
    "books.duplicated().sum()"
   ]
  },
  {
   "cell_type": "code",
   "execution_count": 13,
   "id": "eb2da471-7d41-45a0-a896-ac82a90b43e3",
   "metadata": {},
   "outputs": [
    {
     "data": {
      "text/plain": [
       "0"
      ]
     },
     "execution_count": 13,
     "metadata": {},
     "output_type": "execute_result"
    }
   ],
   "source": [
    "user.duplicated().sum()"
   ]
  },
  {
   "cell_type": "code",
   "execution_count": 14,
   "id": "35fbdbde-dc0a-43a6-bd41-0be1ccf72654",
   "metadata": {},
   "outputs": [
    {
     "data": {
      "text/plain": [
       "0"
      ]
     },
     "execution_count": 14,
     "metadata": {},
     "output_type": "execute_result"
    }
   ],
   "source": [
    "rating.duplicated().sum()"
   ]
  },
  {
   "cell_type": "code",
   "execution_count": 15,
   "id": "22dfef45-e49b-4151-8cc9-9c862a53d12c",
   "metadata": {
    "editable": false,
    "slideshow": {
     "slide_type": ""
    },
    "tags": []
   },
   "outputs": [
    {
     "name": "stdout",
     "output_type": "stream",
     "text": [
      "<class 'pandas.core.frame.DataFrame'>\n",
      "RangeIndex: 271360 entries, 0 to 271359\n",
      "Data columns (total 6 columns):\n",
      " #   Column     Non-Null Count   Dtype \n",
      "---  ------     --------------   ----- \n",
      " 0   isbn       271360 non-null  object\n",
      " 1   title      271360 non-null  object\n",
      " 2   author     271358 non-null  object\n",
      " 3   year       271360 non-null  object\n",
      " 4   publisher  271358 non-null  object\n",
      " 5   url        271360 non-null  object\n",
      "dtypes: object(6)\n",
      "memory usage: 12.4+ MB\n"
     ]
    }
   ],
   "source": [
    "# EDA\n",
    "books.info()"
   ]
  },
  {
   "cell_type": "code",
   "execution_count": 16,
   "id": "dec44051-4172-4c91-b8f4-a23a7232ab68",
   "metadata": {},
   "outputs": [
    {
     "name": "stdout",
     "output_type": "stream",
     "text": [
      "<class 'pandas.core.frame.DataFrame'>\n",
      "RangeIndex: 1149780 entries, 0 to 1149779\n",
      "Data columns (total 3 columns):\n",
      " #   Column  Non-Null Count    Dtype \n",
      "---  ------  --------------    ----- \n",
      " 0   id      1149780 non-null  int64 \n",
      " 1   isbn    1149780 non-null  object\n",
      " 2   rating  1149780 non-null  int64 \n",
      "dtypes: int64(2), object(1)\n",
      "memory usage: 26.3+ MB\n"
     ]
    }
   ],
   "source": [
    "rating.info()"
   ]
  },
  {
   "cell_type": "code",
   "execution_count": 17,
   "id": "8d3e248e-3f4f-401e-aa33-778029db2168",
   "metadata": {},
   "outputs": [
    {
     "data": {
      "text/plain": [
       "340556"
      ]
     },
     "execution_count": 17,
     "metadata": {},
     "output_type": "execute_result"
    }
   ],
   "source": [
    "(rating['isbn'].nunique())"
   ]
  },
  {
   "cell_type": "code",
   "execution_count": 18,
   "id": "20b4907d-37e6-4895-aa86-cebbefa307ed",
   "metadata": {},
   "outputs": [
    {
     "data": {
      "text/plain": [
       "isbn\n",
       "0971880107     2502\n",
       "0316666343     1295\n",
       "0385504209      883\n",
       "0060928336      732\n",
       "0312195516      723\n",
       "               ... \n",
       "1568656386        1\n",
       "1568656408        1\n",
       "1569551553        1\n",
       "1570081808        1\n",
       "05162443314       1\n",
       "Name: count, Length: 340556, dtype: int64"
      ]
     },
     "execution_count": 18,
     "metadata": {},
     "output_type": "execute_result"
    }
   ],
   "source": [
    "rating['isbn'].value_counts()"
   ]
  },
  {
   "cell_type": "code",
   "execution_count": 19,
   "id": "71551866-3432-47d5-abb8-22adcacd024a",
   "metadata": {},
   "outputs": [],
   "source": [
    "x = rating['isbn'].value_counts()"
   ]
  },
  {
   "cell_type": "code",
   "execution_count": 20,
   "id": "96215ef8-f06e-4c4f-a02a-40c7dc542db2",
   "metadata": {},
   "outputs": [],
   "source": [
    "merge_rating = rating.merge(books, on='isbn')"
   ]
  },
  {
   "cell_type": "code",
   "execution_count": 21,
   "id": "ca350088-8fc6-4134-bdd0-5f680313ea09",
   "metadata": {},
   "outputs": [
    {
     "data": {
      "text/html": [
       "<div>\n",
       "<style scoped>\n",
       "    .dataframe tbody tr th:only-of-type {\n",
       "        vertical-align: middle;\n",
       "    }\n",
       "\n",
       "    .dataframe tbody tr th {\n",
       "        vertical-align: top;\n",
       "    }\n",
       "\n",
       "    .dataframe thead th {\n",
       "        text-align: right;\n",
       "    }\n",
       "</style>\n",
       "<table border=\"1\" class=\"dataframe\">\n",
       "  <thead>\n",
       "    <tr style=\"text-align: right;\">\n",
       "      <th></th>\n",
       "      <th>id</th>\n",
       "      <th>isbn</th>\n",
       "      <th>rating</th>\n",
       "      <th>title</th>\n",
       "      <th>author</th>\n",
       "      <th>year</th>\n",
       "      <th>publisher</th>\n",
       "      <th>url</th>\n",
       "    </tr>\n",
       "  </thead>\n",
       "  <tbody>\n",
       "    <tr>\n",
       "      <th>0</th>\n",
       "      <td>276725</td>\n",
       "      <td>034545104X</td>\n",
       "      <td>0</td>\n",
       "      <td>Flesh Tones: A Novel</td>\n",
       "      <td>M. J. Rose</td>\n",
       "      <td>2002</td>\n",
       "      <td>Ballantine Books</td>\n",
       "      <td>http://images.amazon.com/images/P/034545104X.0...</td>\n",
       "    </tr>\n",
       "    <tr>\n",
       "      <th>1</th>\n",
       "      <td>2313</td>\n",
       "      <td>034545104X</td>\n",
       "      <td>5</td>\n",
       "      <td>Flesh Tones: A Novel</td>\n",
       "      <td>M. J. Rose</td>\n",
       "      <td>2002</td>\n",
       "      <td>Ballantine Books</td>\n",
       "      <td>http://images.amazon.com/images/P/034545104X.0...</td>\n",
       "    </tr>\n",
       "    <tr>\n",
       "      <th>2</th>\n",
       "      <td>6543</td>\n",
       "      <td>034545104X</td>\n",
       "      <td>0</td>\n",
       "      <td>Flesh Tones: A Novel</td>\n",
       "      <td>M. J. Rose</td>\n",
       "      <td>2002</td>\n",
       "      <td>Ballantine Books</td>\n",
       "      <td>http://images.amazon.com/images/P/034545104X.0...</td>\n",
       "    </tr>\n",
       "    <tr>\n",
       "      <th>3</th>\n",
       "      <td>8680</td>\n",
       "      <td>034545104X</td>\n",
       "      <td>5</td>\n",
       "      <td>Flesh Tones: A Novel</td>\n",
       "      <td>M. J. Rose</td>\n",
       "      <td>2002</td>\n",
       "      <td>Ballantine Books</td>\n",
       "      <td>http://images.amazon.com/images/P/034545104X.0...</td>\n",
       "    </tr>\n",
       "    <tr>\n",
       "      <th>4</th>\n",
       "      <td>10314</td>\n",
       "      <td>034545104X</td>\n",
       "      <td>9</td>\n",
       "      <td>Flesh Tones: A Novel</td>\n",
       "      <td>M. J. Rose</td>\n",
       "      <td>2002</td>\n",
       "      <td>Ballantine Books</td>\n",
       "      <td>http://images.amazon.com/images/P/034545104X.0...</td>\n",
       "    </tr>\n",
       "  </tbody>\n",
       "</table>\n",
       "</div>"
      ],
      "text/plain": [
       "       id        isbn  rating                 title      author  year  \\\n",
       "0  276725  034545104X       0  Flesh Tones: A Novel  M. J. Rose  2002   \n",
       "1    2313  034545104X       5  Flesh Tones: A Novel  M. J. Rose  2002   \n",
       "2    6543  034545104X       0  Flesh Tones: A Novel  M. J. Rose  2002   \n",
       "3    8680  034545104X       5  Flesh Tones: A Novel  M. J. Rose  2002   \n",
       "4   10314  034545104X       9  Flesh Tones: A Novel  M. J. Rose  2002   \n",
       "\n",
       "          publisher                                                url  \n",
       "0  Ballantine Books  http://images.amazon.com/images/P/034545104X.0...  \n",
       "1  Ballantine Books  http://images.amazon.com/images/P/034545104X.0...  \n",
       "2  Ballantine Books  http://images.amazon.com/images/P/034545104X.0...  \n",
       "3  Ballantine Books  http://images.amazon.com/images/P/034545104X.0...  \n",
       "4  Ballantine Books  http://images.amazon.com/images/P/034545104X.0...  "
      ]
     },
     "execution_count": 21,
     "metadata": {},
     "output_type": "execute_result"
    }
   ],
   "source": [
    "merge_rating.head()"
   ]
  },
  {
   "cell_type": "code",
   "execution_count": 22,
   "id": "86f82165-ad60-4894-b99b-bc98470ef542",
   "metadata": {},
   "outputs": [
    {
     "data": {
      "text/plain": [
       "(1031136, 8)"
      ]
     },
     "execution_count": 22,
     "metadata": {},
     "output_type": "execute_result"
    }
   ],
   "source": [
    "merge_rating.shape"
   ]
  },
  {
   "cell_type": "code",
   "execution_count": 23,
   "id": "6c109b54-bd20-453e-baff-28d7dadd86ed",
   "metadata": {},
   "outputs": [],
   "source": [
    "book_rating = merge_rating.groupby('title').count()['rating'].reset_index()"
   ]
  },
  {
   "cell_type": "code",
   "execution_count": 24,
   "id": "e76a5562-4077-4168-bfda-057f3ad5be07",
   "metadata": {},
   "outputs": [
    {
     "data": {
      "text/html": [
       "<div>\n",
       "<style scoped>\n",
       "    .dataframe tbody tr th:only-of-type {\n",
       "        vertical-align: middle;\n",
       "    }\n",
       "\n",
       "    .dataframe tbody tr th {\n",
       "        vertical-align: top;\n",
       "    }\n",
       "\n",
       "    .dataframe thead th {\n",
       "        text-align: right;\n",
       "    }\n",
       "</style>\n",
       "<table border=\"1\" class=\"dataframe\">\n",
       "  <thead>\n",
       "    <tr style=\"text-align: right;\">\n",
       "      <th></th>\n",
       "      <th>title</th>\n",
       "      <th>rating</th>\n",
       "    </tr>\n",
       "  </thead>\n",
       "  <tbody>\n",
       "    <tr>\n",
       "      <th>0</th>\n",
       "      <td>A Light in the Storm: The Civil War Diary of ...</td>\n",
       "      <td>4</td>\n",
       "    </tr>\n",
       "    <tr>\n",
       "      <th>1</th>\n",
       "      <td>Always Have Popsicles</td>\n",
       "      <td>1</td>\n",
       "    </tr>\n",
       "    <tr>\n",
       "      <th>2</th>\n",
       "      <td>Apple Magic (The Collector's series)</td>\n",
       "      <td>1</td>\n",
       "    </tr>\n",
       "    <tr>\n",
       "      <th>3</th>\n",
       "      <td>Ask Lily (Young Women of Faith: Lily Series, ...</td>\n",
       "      <td>1</td>\n",
       "    </tr>\n",
       "    <tr>\n",
       "      <th>4</th>\n",
       "      <td>Beyond IBM: Leadership Marketing and Finance ...</td>\n",
       "      <td>1</td>\n",
       "    </tr>\n",
       "  </tbody>\n",
       "</table>\n",
       "</div>"
      ],
      "text/plain": [
       "                                               title  rating\n",
       "0   A Light in the Storm: The Civil War Diary of ...       4\n",
       "1                              Always Have Popsicles       1\n",
       "2               Apple Magic (The Collector's series)       1\n",
       "3   Ask Lily (Young Women of Faith: Lily Series, ...       1\n",
       "4   Beyond IBM: Leadership Marketing and Finance ...       1"
      ]
     },
     "execution_count": 24,
     "metadata": {},
     "output_type": "execute_result"
    }
   ],
   "source": [
    "book_rating.head()"
   ]
  },
  {
   "cell_type": "code",
   "execution_count": 25,
   "id": "5a9a5511-171d-4a53-9f60-5fb0256dbe29",
   "metadata": {},
   "outputs": [],
   "source": [
    "book_rating.rename(columns = {'rating' : 'num_rating'}, inplace = True)"
   ]
  },
  {
   "cell_type": "code",
   "execution_count": 26,
   "id": "4c665941-f03a-4c81-a40d-69b46933908e",
   "metadata": {},
   "outputs": [],
   "source": [
    "# popularity based recommendation."
   ]
  },
  {
   "cell_type": "code",
   "execution_count": 27,
   "id": "7c76b9d9-a541-4d66-a8e3-eb55caf04f65",
   "metadata": {},
   "outputs": [],
   "source": [
    "popular = merge_rating.groupby('title')['rating'].mean().reset_index()"
   ]
  },
  {
   "cell_type": "code",
   "execution_count": 28,
   "id": "6e223c4b-e8a4-4429-840a-f61b8f5b956d",
   "metadata": {},
   "outputs": [
    {
     "data": {
      "text/plain": [
       "(241071, 2)"
      ]
     },
     "execution_count": 28,
     "metadata": {},
     "output_type": "execute_result"
    }
   ],
   "source": [
    "popular.shape"
   ]
  },
  {
   "cell_type": "code",
   "execution_count": 29,
   "id": "9c753760-d801-4949-977d-fc769422d8f7",
   "metadata": {},
   "outputs": [],
   "source": [
    "popular.rename(columns = {'rating' : 'av.rating'}, inplace =True)"
   ]
  },
  {
   "cell_type": "code",
   "execution_count": 30,
   "id": "dac0f37a-dbd0-4d1c-8327-b161e5a29032",
   "metadata": {},
   "outputs": [],
   "source": [
    "popular = popular.merge(book_rating, on='title')"
   ]
  },
  {
   "cell_type": "code",
   "execution_count": 31,
   "id": "e6547f3b-d095-404d-8d7b-e6a4d6723db6",
   "metadata": {},
   "outputs": [],
   "source": [
    "top_books = popular[popular['num_rating'] >= 250].sort_values('av.rating',ascending = False).head(50)"
   ]
  },
  {
   "cell_type": "code",
   "execution_count": 32,
   "id": "b7c28e1f-2010-475c-8b89-5b868079d2b6",
   "metadata": {},
   "outputs": [
    {
     "data": {
      "text/plain": [
       "(50, 3)"
      ]
     },
     "execution_count": 32,
     "metadata": {},
     "output_type": "execute_result"
    }
   ],
   "source": [
    "top_books.shape"
   ]
  },
  {
   "cell_type": "code",
   "execution_count": 33,
   "id": "2c441247-ed39-4d18-8905-d060ce487e49",
   "metadata": {},
   "outputs": [],
   "source": [
    "top_books_info = top_books.merge(books, on='title')"
   ]
  },
  {
   "cell_type": "code",
   "execution_count": 34,
   "id": "a89a7f4a-0303-434a-8830-517874b7d427",
   "metadata": {},
   "outputs": [
    {
     "data": {
      "text/plain": [
       "(196, 8)"
      ]
     },
     "execution_count": 34,
     "metadata": {},
     "output_type": "execute_result"
    }
   ],
   "source": [
    "top_books_info.shape"
   ]
  },
  {
   "cell_type": "code",
   "execution_count": 35,
   "id": "e3c2f44e-b5df-43fb-91a8-5d04a11f29a8",
   "metadata": {},
   "outputs": [],
   "source": [
    "top_books_info.drop_duplicates('title',inplace = True)"
   ]
  },
  {
   "cell_type": "markdown",
   "id": "82710814-65ab-48ca-8eba-9a6fe4a77ad7",
   "metadata": {},
   "source": [
    "## top 50 books to recommend for anyone ↓."
   ]
  },
  {
   "cell_type": "code",
   "execution_count": 36,
   "id": "c361f00f-809d-43d2-ba1b-e957fe1acbe9",
   "metadata": {},
   "outputs": [
    {
     "data": {
      "text/html": [
       "<div>\n",
       "<style scoped>\n",
       "    .dataframe tbody tr th:only-of-type {\n",
       "        vertical-align: middle;\n",
       "    }\n",
       "\n",
       "    .dataframe tbody tr th {\n",
       "        vertical-align: top;\n",
       "    }\n",
       "\n",
       "    .dataframe thead th {\n",
       "        text-align: right;\n",
       "    }\n",
       "</style>\n",
       "<table border=\"1\" class=\"dataframe\">\n",
       "  <thead>\n",
       "    <tr style=\"text-align: right;\">\n",
       "      <th></th>\n",
       "      <th>title</th>\n",
       "      <th>av.rating</th>\n",
       "      <th>num_rating</th>\n",
       "      <th>isbn</th>\n",
       "      <th>author</th>\n",
       "      <th>year</th>\n",
       "      <th>publisher</th>\n",
       "      <th>url</th>\n",
       "    </tr>\n",
       "  </thead>\n",
       "  <tbody>\n",
       "    <tr>\n",
       "      <th>0</th>\n",
       "      <td>Harry Potter and the Prisoner of Azkaban (Book 3)</td>\n",
       "      <td>5.852804</td>\n",
       "      <td>428</td>\n",
       "      <td>0439136350</td>\n",
       "      <td>J. K. Rowling</td>\n",
       "      <td>1999</td>\n",
       "      <td>Scholastic</td>\n",
       "      <td>http://images.amazon.com/images/P/0439136350.0...</td>\n",
       "    </tr>\n",
       "    <tr>\n",
       "      <th>3</th>\n",
       "      <td>Harry Potter and the Goblet of Fire (Book 4)</td>\n",
       "      <td>5.824289</td>\n",
       "      <td>387</td>\n",
       "      <td>0439139597</td>\n",
       "      <td>J. K. Rowling</td>\n",
       "      <td>2000</td>\n",
       "      <td>Scholastic</td>\n",
       "      <td>http://images.amazon.com/images/P/0439139597.0...</td>\n",
       "    </tr>\n",
       "    <tr>\n",
       "      <th>5</th>\n",
       "      <td>Harry Potter and the Sorcerer's Stone (Book 1)</td>\n",
       "      <td>5.737410</td>\n",
       "      <td>278</td>\n",
       "      <td>0590353403</td>\n",
       "      <td>J. K. Rowling</td>\n",
       "      <td>1998</td>\n",
       "      <td>Scholastic</td>\n",
       "      <td>http://images.amazon.com/images/P/0590353403.0...</td>\n",
       "    </tr>\n",
       "    <tr>\n",
       "      <th>9</th>\n",
       "      <td>Harry Potter and the Order of the Phoenix (Boo...</td>\n",
       "      <td>5.501441</td>\n",
       "      <td>347</td>\n",
       "      <td>043935806X</td>\n",
       "      <td>J. K. Rowling</td>\n",
       "      <td>2003</td>\n",
       "      <td>Scholastic</td>\n",
       "      <td>http://images.amazon.com/images/P/043935806X.0...</td>\n",
       "    </tr>\n",
       "    <tr>\n",
       "      <th>13</th>\n",
       "      <td>Harry Potter and the Chamber of Secrets (Book 2)</td>\n",
       "      <td>5.183453</td>\n",
       "      <td>556</td>\n",
       "      <td>0439064872</td>\n",
       "      <td>J. K. Rowling</td>\n",
       "      <td>2000</td>\n",
       "      <td>Scholastic</td>\n",
       "      <td>http://images.amazon.com/images/P/0439064872.0...</td>\n",
       "    </tr>\n",
       "  </tbody>\n",
       "</table>\n",
       "</div>"
      ],
      "text/plain": [
       "                                                title  av.rating  num_rating  \\\n",
       "0   Harry Potter and the Prisoner of Azkaban (Book 3)   5.852804         428   \n",
       "3        Harry Potter and the Goblet of Fire (Book 4)   5.824289         387   \n",
       "5      Harry Potter and the Sorcerer's Stone (Book 1)   5.737410         278   \n",
       "9   Harry Potter and the Order of the Phoenix (Boo...   5.501441         347   \n",
       "13   Harry Potter and the Chamber of Secrets (Book 2)   5.183453         556   \n",
       "\n",
       "          isbn         author  year   publisher  \\\n",
       "0   0439136350  J. K. Rowling  1999  Scholastic   \n",
       "3   0439139597  J. K. Rowling  2000  Scholastic   \n",
       "5   0590353403  J. K. Rowling  1998  Scholastic   \n",
       "9   043935806X  J. K. Rowling  2003  Scholastic   \n",
       "13  0439064872  J. K. Rowling  2000  Scholastic   \n",
       "\n",
       "                                                  url  \n",
       "0   http://images.amazon.com/images/P/0439136350.0...  \n",
       "3   http://images.amazon.com/images/P/0439139597.0...  \n",
       "5   http://images.amazon.com/images/P/0590353403.0...  \n",
       "9   http://images.amazon.com/images/P/043935806X.0...  \n",
       "13  http://images.amazon.com/images/P/0439064872.0...  "
      ]
     },
     "execution_count": 36,
     "metadata": {},
     "output_type": "execute_result"
    }
   ],
   "source": [
    "top_books_info.head()"
   ]
  },
  {
   "cell_type": "markdown",
   "id": "cc837813-c6ce-488f-b396-725e7ad1490d",
   "metadata": {},
   "source": [
    "## Collaborative filtering approach."
   ]
  },
  {
   "cell_type": "code",
   "execution_count": 37,
   "id": "cf03f031-8a7a-4134-867a-6a11f1f6903b",
   "metadata": {},
   "outputs": [
    {
     "data": {
      "text/plain": [
       "(1031136, 8)"
      ]
     },
     "execution_count": 37,
     "metadata": {},
     "output_type": "execute_result"
    }
   ],
   "source": [
    "merge_rating.shape"
   ]
  },
  {
   "cell_type": "code",
   "execution_count": 38,
   "id": "042c71f2-2b5b-4836-8653-58481822b713",
   "metadata": {},
   "outputs": [
    {
     "data": {
      "text/html": [
       "<div>\n",
       "<style scoped>\n",
       "    .dataframe tbody tr th:only-of-type {\n",
       "        vertical-align: middle;\n",
       "    }\n",
       "\n",
       "    .dataframe tbody tr th {\n",
       "        vertical-align: top;\n",
       "    }\n",
       "\n",
       "    .dataframe thead th {\n",
       "        text-align: right;\n",
       "    }\n",
       "</style>\n",
       "<table border=\"1\" class=\"dataframe\">\n",
       "  <thead>\n",
       "    <tr style=\"text-align: right;\">\n",
       "      <th></th>\n",
       "      <th>id</th>\n",
       "      <th>isbn</th>\n",
       "      <th>rating</th>\n",
       "      <th>title</th>\n",
       "      <th>author</th>\n",
       "      <th>year</th>\n",
       "      <th>publisher</th>\n",
       "      <th>url</th>\n",
       "    </tr>\n",
       "  </thead>\n",
       "  <tbody>\n",
       "    <tr>\n",
       "      <th>0</th>\n",
       "      <td>276725</td>\n",
       "      <td>034545104X</td>\n",
       "      <td>0</td>\n",
       "      <td>Flesh Tones: A Novel</td>\n",
       "      <td>M. J. Rose</td>\n",
       "      <td>2002</td>\n",
       "      <td>Ballantine Books</td>\n",
       "      <td>http://images.amazon.com/images/P/034545104X.0...</td>\n",
       "    </tr>\n",
       "    <tr>\n",
       "      <th>1</th>\n",
       "      <td>2313</td>\n",
       "      <td>034545104X</td>\n",
       "      <td>5</td>\n",
       "      <td>Flesh Tones: A Novel</td>\n",
       "      <td>M. J. Rose</td>\n",
       "      <td>2002</td>\n",
       "      <td>Ballantine Books</td>\n",
       "      <td>http://images.amazon.com/images/P/034545104X.0...</td>\n",
       "    </tr>\n",
       "    <tr>\n",
       "      <th>2</th>\n",
       "      <td>6543</td>\n",
       "      <td>034545104X</td>\n",
       "      <td>0</td>\n",
       "      <td>Flesh Tones: A Novel</td>\n",
       "      <td>M. J. Rose</td>\n",
       "      <td>2002</td>\n",
       "      <td>Ballantine Books</td>\n",
       "      <td>http://images.amazon.com/images/P/034545104X.0...</td>\n",
       "    </tr>\n",
       "    <tr>\n",
       "      <th>3</th>\n",
       "      <td>8680</td>\n",
       "      <td>034545104X</td>\n",
       "      <td>5</td>\n",
       "      <td>Flesh Tones: A Novel</td>\n",
       "      <td>M. J. Rose</td>\n",
       "      <td>2002</td>\n",
       "      <td>Ballantine Books</td>\n",
       "      <td>http://images.amazon.com/images/P/034545104X.0...</td>\n",
       "    </tr>\n",
       "    <tr>\n",
       "      <th>4</th>\n",
       "      <td>10314</td>\n",
       "      <td>034545104X</td>\n",
       "      <td>9</td>\n",
       "      <td>Flesh Tones: A Novel</td>\n",
       "      <td>M. J. Rose</td>\n",
       "      <td>2002</td>\n",
       "      <td>Ballantine Books</td>\n",
       "      <td>http://images.amazon.com/images/P/034545104X.0...</td>\n",
       "    </tr>\n",
       "  </tbody>\n",
       "</table>\n",
       "</div>"
      ],
      "text/plain": [
       "       id        isbn  rating                 title      author  year  \\\n",
       "0  276725  034545104X       0  Flesh Tones: A Novel  M. J. Rose  2002   \n",
       "1    2313  034545104X       5  Flesh Tones: A Novel  M. J. Rose  2002   \n",
       "2    6543  034545104X       0  Flesh Tones: A Novel  M. J. Rose  2002   \n",
       "3    8680  034545104X       5  Flesh Tones: A Novel  M. J. Rose  2002   \n",
       "4   10314  034545104X       9  Flesh Tones: A Novel  M. J. Rose  2002   \n",
       "\n",
       "          publisher                                                url  \n",
       "0  Ballantine Books  http://images.amazon.com/images/P/034545104X.0...  \n",
       "1  Ballantine Books  http://images.amazon.com/images/P/034545104X.0...  \n",
       "2  Ballantine Books  http://images.amazon.com/images/P/034545104X.0...  \n",
       "3  Ballantine Books  http://images.amazon.com/images/P/034545104X.0...  \n",
       "4  Ballantine Books  http://images.amazon.com/images/P/034545104X.0...  "
      ]
     },
     "execution_count": 38,
     "metadata": {},
     "output_type": "execute_result"
    }
   ],
   "source": [
    "merge_rating.head()"
   ]
  },
  {
   "cell_type": "code",
   "execution_count": 39,
   "id": "3fd4a47f-8f68-49ea-87c4-05f88d837cf1",
   "metadata": {},
   "outputs": [],
   "source": [
    "# x = merge_rating.groupby('title').count()['rating'] >= 50"
   ]
  },
  {
   "cell_type": "code",
   "execution_count": 40,
   "id": "a56e236b-765c-4b9d-a196-1ea71df3fd98",
   "metadata": {},
   "outputs": [],
   "source": [
    "# ind_rating_book = x[x].index"
   ]
  },
  {
   "cell_type": "code",
   "execution_count": 41,
   "id": "51d84b0b-75bd-4577-b63c-054257e2d285",
   "metadata": {},
   "outputs": [],
   "source": [
    "y = merge_rating.groupby('id').count()['rating'] > 200"
   ]
  },
  {
   "cell_type": "code",
   "execution_count": 42,
   "id": "c80cbe92-5e02-48d0-9989-f21dcf4394f2",
   "metadata": {},
   "outputs": [
    {
     "data": {
      "text/plain": [
       "811"
      ]
     },
     "execution_count": 42,
     "metadata": {},
     "output_type": "execute_result"
    }
   ],
   "source": [
    "len(y[y])"
   ]
  },
  {
   "cell_type": "code",
   "execution_count": 43,
   "id": "895cba30-1606-4586-9d2f-6540a8e39891",
   "metadata": {},
   "outputs": [
    {
     "data": {
      "text/plain": [
       "id\n",
       "254       True\n",
       "2276      True\n",
       "2766      True\n",
       "2977      True\n",
       "3363      True\n",
       "          ... \n",
       "274308    True\n",
       "275970    True\n",
       "277427    True\n",
       "277639    True\n",
       "278418    True\n",
       "Name: rating, Length: 811, dtype: bool"
      ]
     },
     "execution_count": 43,
     "metadata": {},
     "output_type": "execute_result"
    }
   ],
   "source": [
    "y[y]"
   ]
  },
  {
   "cell_type": "code",
   "execution_count": 44,
   "id": "e42e68d0-ebc7-48b4-94ae-ac24c55a71c1",
   "metadata": {},
   "outputs": [],
   "source": [
    "ind_rating_user = y[y].index"
   ]
  },
  {
   "cell_type": "code",
   "execution_count": 45,
   "id": "3604121e-e928-4b68-bbbd-ef87bf3f3fff",
   "metadata": {},
   "outputs": [],
   "source": [
    "# that is number of users present in 'merge_rating' df, thaat are also present in 'ind_rating_user'\n",
    "good_users = merge_rating[merge_rating['id'].isin(ind_rating_user)]"
   ]
  },
  {
   "cell_type": "code",
   "execution_count": 46,
   "id": "e2c837cb-7d3d-4d2f-ac56-09a83f6d1b63",
   "metadata": {},
   "outputs": [],
   "source": [
    "x = good_users.groupby('title').count()['rating'] >= 50"
   ]
  },
  {
   "cell_type": "code",
   "execution_count": 47,
   "id": "79af807e-589c-4a6a-bc4d-96ff1234555c",
   "metadata": {},
   "outputs": [],
   "source": [
    "ind_rating_book = x[x].index"
   ]
  },
  {
   "cell_type": "code",
   "execution_count": 48,
   "id": "c189e955-e7a4-44cb-8911-7d58232e8305",
   "metadata": {},
   "outputs": [],
   "source": [
    "final = good_users[good_users['title'].isin(ind_rating_book)]"
   ]
  },
  {
   "cell_type": "code",
   "execution_count": 49,
   "id": "1ed0e98b-4480-4c4d-88f2-bd99e43f5bd1",
   "metadata": {},
   "outputs": [
    {
     "data": {
      "text/html": [
       "<div>\n",
       "<style scoped>\n",
       "    .dataframe tbody tr th:only-of-type {\n",
       "        vertical-align: middle;\n",
       "    }\n",
       "\n",
       "    .dataframe tbody tr th {\n",
       "        vertical-align: top;\n",
       "    }\n",
       "\n",
       "    .dataframe thead th {\n",
       "        text-align: right;\n",
       "    }\n",
       "</style>\n",
       "<table border=\"1\" class=\"dataframe\">\n",
       "  <thead>\n",
       "    <tr style=\"text-align: right;\">\n",
       "      <th></th>\n",
       "      <th>id</th>\n",
       "      <th>isbn</th>\n",
       "      <th>rating</th>\n",
       "      <th>title</th>\n",
       "      <th>author</th>\n",
       "      <th>year</th>\n",
       "      <th>publisher</th>\n",
       "      <th>url</th>\n",
       "    </tr>\n",
       "  </thead>\n",
       "  <tbody>\n",
       "    <tr>\n",
       "      <th>63</th>\n",
       "      <td>278418</td>\n",
       "      <td>0446520802</td>\n",
       "      <td>0</td>\n",
       "      <td>The Notebook</td>\n",
       "      <td>Nicholas Sparks</td>\n",
       "      <td>1996</td>\n",
       "      <td>Warner Books</td>\n",
       "      <td>http://images.amazon.com/images/P/0446520802.0...</td>\n",
       "    </tr>\n",
       "    <tr>\n",
       "      <th>65</th>\n",
       "      <td>3363</td>\n",
       "      <td>0446520802</td>\n",
       "      <td>0</td>\n",
       "      <td>The Notebook</td>\n",
       "      <td>Nicholas Sparks</td>\n",
       "      <td>1996</td>\n",
       "      <td>Warner Books</td>\n",
       "      <td>http://images.amazon.com/images/P/0446520802.0...</td>\n",
       "    </tr>\n",
       "    <tr>\n",
       "      <th>66</th>\n",
       "      <td>7158</td>\n",
       "      <td>0446520802</td>\n",
       "      <td>10</td>\n",
       "      <td>The Notebook</td>\n",
       "      <td>Nicholas Sparks</td>\n",
       "      <td>1996</td>\n",
       "      <td>Warner Books</td>\n",
       "      <td>http://images.amazon.com/images/P/0446520802.0...</td>\n",
       "    </tr>\n",
       "    <tr>\n",
       "      <th>69</th>\n",
       "      <td>11676</td>\n",
       "      <td>0446520802</td>\n",
       "      <td>10</td>\n",
       "      <td>The Notebook</td>\n",
       "      <td>Nicholas Sparks</td>\n",
       "      <td>1996</td>\n",
       "      <td>Warner Books</td>\n",
       "      <td>http://images.amazon.com/images/P/0446520802.0...</td>\n",
       "    </tr>\n",
       "    <tr>\n",
       "      <th>74</th>\n",
       "      <td>23768</td>\n",
       "      <td>0446520802</td>\n",
       "      <td>6</td>\n",
       "      <td>The Notebook</td>\n",
       "      <td>Nicholas Sparks</td>\n",
       "      <td>1996</td>\n",
       "      <td>Warner Books</td>\n",
       "      <td>http://images.amazon.com/images/P/0446520802.0...</td>\n",
       "    </tr>\n",
       "  </tbody>\n",
       "</table>\n",
       "</div>"
      ],
      "text/plain": [
       "        id        isbn  rating         title           author  year  \\\n",
       "63  278418  0446520802       0  The Notebook  Nicholas Sparks  1996   \n",
       "65    3363  0446520802       0  The Notebook  Nicholas Sparks  1996   \n",
       "66    7158  0446520802      10  The Notebook  Nicholas Sparks  1996   \n",
       "69   11676  0446520802      10  The Notebook  Nicholas Sparks  1996   \n",
       "74   23768  0446520802       6  The Notebook  Nicholas Sparks  1996   \n",
       "\n",
       "       publisher                                                url  \n",
       "63  Warner Books  http://images.amazon.com/images/P/0446520802.0...  \n",
       "65  Warner Books  http://images.amazon.com/images/P/0446520802.0...  \n",
       "66  Warner Books  http://images.amazon.com/images/P/0446520802.0...  \n",
       "69  Warner Books  http://images.amazon.com/images/P/0446520802.0...  \n",
       "74  Warner Books  http://images.amazon.com/images/P/0446520802.0...  "
      ]
     },
     "execution_count": 49,
     "metadata": {},
     "output_type": "execute_result"
    }
   ],
   "source": [
    "final.head()"
   ]
  },
  {
   "cell_type": "code",
   "execution_count": 50,
   "id": "ff8eb984-0cd3-4689-ace5-6c8532664187",
   "metadata": {},
   "outputs": [],
   "source": [
    "# now this is the data with users who have rated for > 200 times hence theeir rating matters,\n",
    "# and among them the books which each has atleat 50 number of ratings."
   ]
  },
  {
   "cell_type": "code",
   "execution_count": 51,
   "id": "39760738-e04e-438d-8bf6-002d266faf59",
   "metadata": {},
   "outputs": [],
   "source": [
    "pv = final.pivot_table(index = 'title', columns = 'id', values = 'rating')"
   ]
  },
  {
   "cell_type": "code",
   "execution_count": 52,
   "id": "a9a48c12-54af-4385-9a2c-2bf42fe394c3",
   "metadata": {},
   "outputs": [],
   "source": [
    "pv.fillna(0,inplace = True)"
   ]
  },
  {
   "cell_type": "code",
   "execution_count": 53,
   "id": "c29e1e0c-0447-4a10-91a4-8ae959cfecb8",
   "metadata": {},
   "outputs": [],
   "source": [
    "from sklearn.metrics.pairwise import cosine_similarity"
   ]
  },
  {
   "cell_type": "code",
   "execution_count": 54,
   "id": "9b140d37-3cf7-404d-a407-ec2b494066ba",
   "metadata": {},
   "outputs": [],
   "source": [
    "similars = cosine_similarity(pv)"
   ]
  },
  {
   "cell_type": "code",
   "execution_count": 55,
   "id": "5fbc1edb-5316-4747-89e5-d68f972a1003",
   "metadata": {},
   "outputs": [],
   "source": [
    "# making a function which will have a book title and will return the top 5 closest books related to it."
   ]
  },
  {
   "cell_type": "code",
   "execution_count": 56,
   "id": "0e8e4771-9db9-4237-85d5-451c1aa2ea00",
   "metadata": {},
   "outputs": [
    {
     "data": {
      "text/plain": [
       "array([696], dtype=int64)"
      ]
     },
     "execution_count": 56,
     "metadata": {},
     "output_type": "execute_result"
    }
   ],
   "source": [
    "np.where(pv.index == 'Winter Solstice')[0]"
   ]
  },
  {
   "cell_type": "code",
   "execution_count": 110,
   "id": "4fdc596c-982a-4e78-959e-df173224d27e",
   "metadata": {},
   "outputs": [],
   "source": [
    "def recom(title):\n",
    "    list = []\n",
    "    count = 0\n",
    "    ind = np.where(pv.index == title)[0][0]\n",
    "    sorts = sorted(enumerate(similars[ind]), key = lambda x:x[1], reverse = True)[1:6]\n",
    "    for i in sorts:\n",
    "        inp = []\n",
    "        temp = books[books['title'] == pv.index[i[0]]]\n",
    "        temp = temp.drop_duplicates('title')\n",
    "        inp.extend((temp['title'].values).tolist())\n",
    "        inp.extend((temp['author'].values).tolist())\n",
    "        inp.extend((temp['url'].values).tolist())\n",
    "\n",
    "        list.append(inp)\n",
    "                \n",
    "    return list"
   ]
  },
  {
   "cell_type": "code",
   "execution_count": null,
   "id": "1ad1c01e-b289-4d3b-8e7d-12035748e82f",
   "metadata": {},
   "outputs": [],
   "source": []
  },
  {
   "cell_type": "code",
   "execution_count": 59,
   "id": "d82fb326-3ee6-41e6-b370-949be683ca0f",
   "metadata": {},
   "outputs": [],
   "source": [
    "sorts = sorted(enumerate(similars[696]), key = lambda x : x[1], reverse = True)[1:6]\n"
   ]
  },
  {
   "cell_type": "code",
   "execution_count": 60,
   "id": "091a5596-745e-4ccf-902d-f0a7ddefb366",
   "metadata": {},
   "outputs": [
    {
     "name": "stdout",
     "output_type": "stream",
     "text": [
      "Coming Home\n",
      "From Potter's Field\n",
      "Deja Dead\n",
      "The Celestine Prophecy (Celestine Prophecy)\n",
      "Montana Sky\n"
     ]
    }
   ],
   "source": [
    "for i in sorts:\n",
    "    print(pv.index[i[0]])"
   ]
  },
  {
   "cell_type": "code",
   "execution_count": 111,
   "id": "32023206-00f0-4aff-ac23-67c41ef775f0",
   "metadata": {},
   "outputs": [],
   "source": [
    "demo = recom(\"Winter Solstice\")"
   ]
  },
  {
   "cell_type": "code",
   "execution_count": 62,
   "id": "c349acf2-101d-4240-849e-4e94dd61b770",
   "metadata": {},
   "outputs": [
    {
     "name": "stderr",
     "output_type": "stream",
     "text": [
      "C:\\Users\\Chinmay\\AppData\\Local\\Temp\\ipykernel_5636\\636828774.py:1: DtypeWarning: Columns (3) have mixed types. Specify dtype option on import or set low_memory=False.\n",
      "  demo = pd.read_csv('Books.csv')\n"
     ]
    }
   ],
   "source": [
    "demo = pd.read_csv('Books.csv')"
   ]
  },
  {
   "cell_type": "code",
   "execution_count": 63,
   "id": "e63a49a1-502d-417a-a15f-b5381fff7fc1",
   "metadata": {},
   "outputs": [
    {
     "data": {
      "text/plain": [
       "'http://images.amazon.com/images/P/0439136350.01.MZZZZZZZ.jpg'"
      ]
     },
     "execution_count": 63,
     "metadata": {},
     "output_type": "execute_result"
    }
   ],
   "source": [
    "top_books_info['url'][0]"
   ]
  },
  {
   "cell_type": "code",
   "execution_count": 64,
   "id": "9c96e631-c915-4151-8ade-03f2a5d2bc97",
   "metadata": {},
   "outputs": [],
   "source": [
    "import pickle"
   ]
  },
  {
   "cell_type": "code",
   "execution_count": 65,
   "id": "1381a037-a018-4fc3-9acd-1965b7cab058",
   "metadata": {},
   "outputs": [],
   "source": [
    "pickle.dump(top_books_info, open('popular.pkl', 'wb'))"
   ]
  },
  {
   "cell_type": "code",
   "execution_count": 112,
   "id": "783adfd8-2a20-44a2-98c2-45c99beb5adf",
   "metadata": {},
   "outputs": [
    {
     "name": "stdout",
     "output_type": "stream",
     "text": [
      "http://images.amazon.com/images/P/0312958129.01.MZZZZZZZ.jpg\n",
      "http://images.amazon.com/images/P/0425154092.01.MZZZZZZZ.jpg\n",
      "http://images.amazon.com/images/P/0671011367.01.MZZZZZZZ.jpg\n",
      "http://images.amazon.com/images/P/044651862X.01.MZZZZZZZ.jpg\n",
      "http://images.amazon.com/images/P/0515120618.01.MZZZZZZZ.jpg\n"
     ]
    }
   ],
   "source": [
    "for i in demo:\n",
    "    # print('titles',i[0])\n",
    "    # print('author',i[1])\n",
    "    print(i[2])\n",
    "\n",
    "    \n",
    "    "
   ]
  },
  {
   "cell_type": "code",
   "execution_count": 116,
   "id": "e6a49d2a-a1a3-4275-8707-f85d307ac2d2",
   "metadata": {},
   "outputs": [],
   "source": [
    "pickle.dump(similars,open('similarity.pkl', 'wb'))"
   ]
  },
  {
   "cell_type": "code",
   "execution_count": 114,
   "id": "1e1988ee-5613-4f60-80f4-d1f8546fa505",
   "metadata": {},
   "outputs": [],
   "source": [
    "pickle.dump(pv,open('pv.pkl','wb'))"
   ]
  },
  {
   "cell_type": "code",
   "execution_count": 115,
   "id": "c58a0d88-ed15-4db3-b96a-301ed9c55c1a",
   "metadata": {},
   "outputs": [],
   "source": [
    "pickle.dump(books,open('book_df.pkl','wb'))"
   ]
  }
 ],
 "metadata": {
  "kernelspec": {
   "display_name": "Python 3 (ipykernel)",
   "language": "python",
   "name": "python3"
  },
  "language_info": {
   "codemirror_mode": {
    "name": "ipython",
    "version": 3
   },
   "file_extension": ".py",
   "mimetype": "text/x-python",
   "name": "python",
   "nbconvert_exporter": "python",
   "pygments_lexer": "ipython3",
   "version": "3.8.19"
  }
 },
 "nbformat": 4,
 "nbformat_minor": 5
}
